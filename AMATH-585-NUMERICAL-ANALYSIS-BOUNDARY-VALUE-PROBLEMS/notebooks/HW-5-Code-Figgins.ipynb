{
 "cells": [
  {
   "cell_type": "code",
   "execution_count": null,
   "metadata": {},
   "outputs": [],
   "source": [
    "using Plots, SparseArrays, LinearAlgebra"
   ]
  },
  {
   "cell_type": "markdown",
   "metadata": {},
   "source": [
    "## Exercise 2"
   ]
  },
  {
   "cell_type": "code",
   "execution_count": null,
   "metadata": {},
   "outputs": [],
   "source": [
    "#\n",
    "#  Solves the steady-state heat equation in a square with conductivity\n",
    "#  c(x,y) = 1 + x^2 + y^2:\n",
    "#\n",
    "#     -d/dx( (1+x^2+y^2) du/dx ) - d/dy( (1+x^2+y^2) du/dy ) = f(x),   \n",
    "#                                                       0 < x,y < 1\n",
    "#     u(x,0) = u(x,1) = u(0,y) = u(1,y) = 0\n",
    "#\n",
    "#  Uses a centered finite difference method.\n",
    "\n",
    "#  Set up grid.\n",
    "function make_A(n)\n",
    "    h = 1/n;\n",
    "    N = (n-1)^2;\n",
    "\n",
    "    #  Form block tridiagonal finite difference matrix A and right-hand side \n",
    "    #  vector b.\n",
    "\n",
    "    A= sparse(zeros(N,N));\n",
    "    b = ones(N);         # Use right-hand side vector of all 1's.\n",
    "\n",
    "    #  Loop over grid points in y direction.\n",
    "    for j=1:n-1,\n",
    "        yj = j*h;\n",
    "        yjph = yj+h/2;  \n",
    "        yjmh = yj-h/2;\n",
    "\n",
    "    #  Loop over grid points in x direction.\n",
    "      for i=1:n-1,\n",
    "        xi = i*h;\n",
    "        xiph = xi+h/2;  ximh = xi-h/2;\n",
    "        aiphj = 1 + xiph^2 + yj^2;\n",
    "        aimhj = 1 + ximh^2 + yj^2;\n",
    "        aijph = 1 + xi^2 + yjph^2;\n",
    "        aijmh = 1 + xi^2 + yjmh^2;\n",
    "        k = (j-1)*(n-1) + i;\n",
    "            \n",
    "        A[k,k] = aiphj+aimhj+aijph+aijmh;\n",
    "        if i > 1 \n",
    "            A[k,k-1] = -aimhj\n",
    "        end\n",
    "        if i < n-1\n",
    "            A[k,k+1] = -aiphj\n",
    "        end\n",
    "        if j > 1\n",
    "            A[k,k-(n-1)] = -aijmh\n",
    "        end;\n",
    "        if j < n-1\n",
    "            A[k,k+(n-1)] = -aijph\n",
    "        end\n",
    "      end\n",
    "    end\n",
    "    A = (1/h^2)*A;   # Remember to multiply A by (1/h^2).\n",
    "\n",
    "    return A, b\n",
    "end"
   ]
  },
  {
   "cell_type": "code",
   "execution_count": null,
   "metadata": {},
   "outputs": [],
   "source": [
    "## Jacobi\n",
    "function jacobi_iter(A, b, u0, max_iter)\n",
    "    # Defining M and N\n",
    "    M = diag(A)\n",
    "    N = Diagonal(M) - A\n",
    "    \n",
    "    # Initializing storage for u\n",
    "    u_iter = Vector{Vector{Float64}}(undef, max_iter+1)\n",
    "    u_iter[1] = u0 \n",
    "        \n",
    "    for iter in 2:(max_iter+1)\n",
    "        u_iter[iter] = (1 ./ M) .* (N*u_iter[iter-1] + b)\n",
    "    end\n",
    "   return u_iter\n",
    "end"
   ]
  },
  {
   "cell_type": "code",
   "execution_count": null,
   "metadata": {},
   "outputs": [],
   "source": [
    "## Gauss Seidel\n",
    "function GS_iter(A, b, u0, max_iter)    \n",
    "    # Defining M and N\n",
    "    M = LowerTriangular(A)\n",
    "    N = UpperTriangular(-A)\n",
    "    N[diagind(N)] .= 0.0\n",
    "    \n",
    "    # Initializing storage for u\n",
    "    u_iter = Vector{Vector{Float64}}(undef, max_iter+1)\n",
    "    u_iter[1] = u0\n",
    "    \n",
    "    c = M \\ b\n",
    "    \n",
    "    for iter in 2:(max_iter+1)\n",
    "        u_iter[iter] = M \\ (N*u_iter[iter-1]) + c\n",
    "    end\n",
    "   return u_iter\n",
    "end"
   ]
  },
  {
   "cell_type": "code",
   "execution_count": null,
   "metadata": {},
   "outputs": [],
   "source": [
    "## Successive overrelaxation\n",
    "function SOR_iter(A, b, u0, ω, max_iter)    \n",
    "    # Defining M and N\n",
    "    L = LowerTriangular(-A)\n",
    "    L[diagind(L)] .= 0.0\n",
    "    U = UpperTriangular(-A)\n",
    "    U[diagind(U)] .= 0.0\n",
    "    D = Diagonal(A)\n",
    "        \n",
    "    M = (1/ω)*D - L\n",
    "    N = ((1 - ω)/ω)*D + U\n",
    "    \n",
    "    # Initializing storage for u\n",
    "    u_iter = Vector{Vector{Float64}}(undef, max_iter+1)\n",
    "    u_iter[1] = u0\n",
    "    \n",
    "    c = M \\ b\n",
    "    \n",
    "    for iter in 2:(max_iter+1)\n",
    "        u_iter[iter] = M \\ (N*u_iter[iter-1]) + c\n",
    "    end\n",
    "   return u_iter\n",
    "end"
   ]
  },
  {
   "cell_type": "code",
   "execution_count": null,
   "metadata": {},
   "outputs": [],
   "source": [
    "function make_residuals(A, b, u_iter)\n",
    "    residuals = Vector{Float64}(undef, length(u_iter))\n",
    "    for i in 1:length(u_iter)\n",
    "        residuals[i] = norm(b - A*u_iter[i]) / norm(b)\n",
    "    end\n",
    "    return residuals\n",
    "end"
   ]
  },
  {
   "cell_type": "code",
   "execution_count": null,
   "metadata": {},
   "outputs": [],
   "source": [
    "# Constant for methods below\n",
    "max_iter = 400\n",
    "ω = 1.6\n",
    "n = 25\n",
    "u0 = rand((n-1)^2)\n",
    "A, b = make_A(n);"
   ]
  },
  {
   "cell_type": "code",
   "execution_count": null,
   "metadata": {},
   "outputs": [],
   "source": [
    "u_JAC = jacobi_iter(A, b, u0, max_iter);\n",
    "u_GS = GS_iter(A, b, u0, max_iter);\n",
    "u_SOR = SOR_iter(A, b, u0, 1.6, max_iter);\n",
    "\n",
    "residuals_JAC = make_residuals(A, b, u_JAC);\n",
    "residuals_GS = make_residuals(A, b, u_GS);\n",
    "residuals_SOR = make_residuals(A, b, u_SOR);"
   ]
  },
  {
   "cell_type": "code",
   "execution_count": null,
   "metadata": {},
   "outputs": [],
   "source": [
    "p = plot(yscale = :log10,\n",
    "            xlabel = \"Iterations\",\n",
    "            ylabel = \"Relative residual norm\",\n",
    "            title = \"Exercise 2: Residual\")\n",
    "p = plot!(residuals_JAC, \n",
    "            label = \"Jacobi\")\n",
    "p = plot!(residuals_GS, \n",
    "            label = \"GS\")\n",
    "p = plot!(residuals_SOR, \n",
    "            label = \"SOR: ω = $ω\")"
   ]
  },
  {
   "cell_type": "code",
   "execution_count": null,
   "metadata": {},
   "outputs": [],
   "source": [
    "using IterativeSolvers"
   ]
  },
  {
   "cell_type": "code",
   "execution_count": null,
   "metadata": {},
   "outputs": [],
   "source": [
    "p = plot(yscale = :log10,\n",
    "            xlabel = \"Iterations\",\n",
    "            ylabel = \"Relative residual norm\",\n",
    "            title = \"Exercise 2: CG\")\n",
    "p = plot!(residual_CG, \n",
    "            label = \"CG\");"
   ]
  },
  {
   "cell_type": "code",
   "execution_count": null,
   "metadata": {},
   "outputs": [],
   "source": [
    "function ichol(B)\n",
    "    A = copy(Matrix(B))\n",
    "    N = size(A)[1] \n",
    "    L = zeros(N, N)\n",
    "    for k in 1:N\n",
    "        L[k,k] = sqrt(A[k,k])\n",
    "        for i in (k+1):N\n",
    "            if A[i,k] != 0\n",
    "               A[i,k] = A[i,k] / A[k,k] \n",
    "            end\n",
    "        end\n",
    "        for j in (k+1):N\n",
    "            for i in j:n\n",
    "                if A[i,j] != 0\n",
    "                   A[i,j] = A[i,j] - A[i, k]*A[j, k] \n",
    "                end\n",
    "            end\n",
    "        end\n",
    "    end\n",
    "    \n",
    "    for i in 1:n\n",
    "       for j in (i+1):n\n",
    "            A[i,j] = 0\n",
    "        end\n",
    "    end\n",
    "    return LowerTriangular(A)\n",
    "end"
   ]
  },
  {
   "cell_type": "code",
   "execution_count": null,
   "metadata": {},
   "outputs": [],
   "source": [
    "x, ch = cg(A, b, reltol = 1e-12, log=true)\n",
    "residuals_CG = ch.data[:resnorm] ./ norm(b);\n",
    "\n",
    "L = ichol(A)\n",
    "x, ch = cg(A, b, reltol = 1e-12, log=true, Pl = L)\n",
    "residual_CG_pre = ch.data[:resnorm] ./ norm(b);"
   ]
  },
  {
   "cell_type": "code",
   "execution_count": null,
   "metadata": {},
   "outputs": [],
   "source": [
    "p = plot(yscale = :log10,\n",
    "            xlabel = \"Iterations\",\n",
    "            ylabel = \"Relative residual norm\",\n",
    "            title = \"Exercise 2: Residual\")\n",
    "p = plot!(residuals_JAC, \n",
    "            label = \"Jacobi\")\n",
    "p = plot!(residuals_GS, \n",
    "            label = \"GS\")\n",
    "p = plot!(residuals_SOR, \n",
    "            label = \"SOR: ω = $ω\")\n",
    "p = plot!(residuals_CG, \n",
    "            label = \"CG\")\n",
    "p = plot!(residual_CG_pre, \n",
    "            label = \"CG_pre\");"
   ]
  },
  {
   "cell_type": "code",
   "execution_count": null,
   "metadata": {},
   "outputs": [],
   "source": [
    "function run_methods_fixed_h(N, max_iter = 400, ω = 1.6)\n",
    "\n",
    "    u0 = rand((N-1)^2)\n",
    "    A, b = make_A(N)\n",
    "\n",
    "    u_JAC = jacobi_iter(A, b, u0, max_iter);\n",
    "    u_GS = GS_iter(A, b, u0, max_iter);\n",
    "    u_SOR = SOR_iter(A, b, u0, 1.6, max_iter);\n",
    "\n",
    "    residuals_JAC = make_residuals(A, b, u_JAC);\n",
    "    residuals_GS = make_residuals(A, b, u_GS);\n",
    "    residuals_SOR = make_residuals(A, b, u_SOR);\n",
    "    \n",
    "    x, ch = cg(A, b, reltol = 1e-12, log=true)\n",
    "    residuals_CG = ch.data[:resnorm] ./ norm(b);\n",
    "    \n",
    "    L = ichol(A)\n",
    "    x, ch = cg(A, b, reltol = 1e-12, log=true, Pl = L)\n",
    "    residual_CG_pre = ch.data[:resnorm] ./ norm(b);\n",
    "    \n",
    "    p = plot(yscale = :log10,\n",
    "            xlabel = \"Iterations\",\n",
    "            ylabel = \"Relative residual norm\",\n",
    "            title = \"Exercise 2: Residual. N = $N\")\n",
    "    p = plot!(residuals_JAC, \n",
    "                label = \"Jacobi\")\n",
    "    p = plot!(residuals_GS, \n",
    "                label = \"GS\")\n",
    "    p = plot!(residuals_SOR, \n",
    "                label = \"SOR: ω = $ω\")\n",
    "    p = plot!(residuals_CG, \n",
    "                label = \"CG\")\n",
    "    p = plot!(residual_CG_pre, \n",
    "                label = \"CG_pre\")\n",
    "    return p\n",
    "end"
   ]
  },
  {
   "cell_type": "code",
   "execution_count": null,
   "metadata": {},
   "outputs": [],
   "source": [
    "exer_2_1 = run_methods_fixed_h(50, 1000, 1.3)"
   ]
  },
  {
   "cell_type": "code",
   "execution_count": null,
   "metadata": {},
   "outputs": [],
   "source": [
    "savefig(exer_2_1, \"../hw/figs/hw-5-exer-2-residual.png\")"
   ]
  },
  {
   "cell_type": "code",
   "execution_count": null,
   "metadata": {},
   "outputs": [],
   "source": [
    "function CG_method_ns(n_sequence, reltol = 1e-10)\n",
    "    num_iters = []\n",
    "    for n in n_sequence\n",
    "        A, b = make_A(n)\n",
    "        x, ch = cg(A, b, reltol = reltol, log=true)\n",
    "        push!(num_iters, ch.iters)\n",
    "    end\n",
    "    return num_iters\n",
    "end"
   ]
  },
  {
   "cell_type": "code",
   "execution_count": null,
   "metadata": {},
   "outputs": [],
   "source": [
    "n_sequence = 2:50\n",
    "reltol = 1e-12\n",
    "num_iters_need = CG_method_ns(n_sequence, reltol);"
   ]
  },
  {
   "cell_type": "code",
   "execution_count": null,
   "metadata": {},
   "outputs": [],
   "source": [
    "exer_2_2 = scatter(n_sequence, \n",
    "    num_iters_need,\n",
    "    label = false,\n",
    "    xlabel = \"N\",\n",
    "    ylabel = \"Number of iterations\",\n",
    "    title = \"Exercise 2: Iterations needed to accuracy\")"
   ]
  },
  {
   "cell_type": "code",
   "execution_count": null,
   "metadata": {},
   "outputs": [],
   "source": [
    "savefig(exer_2_2, \"../hw/figs/hw-5-exer-2-iterations-needed.png\")"
   ]
  }
 ],
 "metadata": {
  "kernelspec": {
   "display_name": "Julia 8 Threads 1.5.2",
   "language": "julia",
   "name": "julia-8-threads-1.5"
  },
  "language_info": {
   "file_extension": ".jl",
   "mimetype": "application/julia",
   "name": "julia",
   "version": "1.5.2"
  }
 },
 "nbformat": 4,
 "nbformat_minor": 4
}
