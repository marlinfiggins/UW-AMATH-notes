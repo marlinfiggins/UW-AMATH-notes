{
 "cells": [
  {
   "cell_type": "code",
   "execution_count": 1,
   "metadata": {},
   "outputs": [],
   "source": [
    "using DifferentialEquations\n",
    "using Plots"
   ]
  },
  {
   "cell_type": "code",
   "execution_count": 2,
   "metadata": {},
   "outputs": [],
   "source": [
    "#Initial Conditions\n",
    "δ = 5.0\n",
    "ϵ = 0.01\n",
    "ω = 1.0\n",
    "\n",
    "u0 = [1.0, 0.0]\n",
    "du0 = [0.0, 1.0]\n",
    "tspan = (0.0, 2π / ω)\n",
    "p = (δ, ω, ϵ)\n",
    "\n",
    "function inverted_pendulum(ddu, du, u, p, t)\n",
    "    δ, ω, ϵ = p\n",
    "    ddu .= -1 * (δ + ϵ*cos(ω*t))*sin.(u)\n",
    "end # Eq605\n",
    "\n",
    "prob = SecondOrderODEProblem(inverted_pendulum, du0, u0, tspan,  p)\n",
    "sol = solve(prob, Tsit5());\n",
    "\n",
    "# Which is derivative which is regualr function"
   ]
  },
  {
   "cell_type": "code",
   "execution_count": 3,
   "metadata": {},
   "outputs": [
    {
     "data": {
      "text/plain": [
       "26-element Array{Float64,1}:\n",
       "  0.0\n",
       "  0.00032607488851328696\n",
       "  0.0035867855606675483\n",
       "  0.03178538985694114\n",
       "  0.10218145022151236\n",
       "  0.20573107116241687\n",
       "  0.3187426503334418\n",
       "  0.41873670318254125\n",
       "  0.4486088937883363\n",
       "  0.3796311242205153\n",
       "  0.19508276171357308\n",
       " -0.09324177030599151\n",
       " -0.3321791336356277\n",
       " -0.4507946820724027\n",
       " -0.34103674101073655\n",
       " -0.06877596949560603\n",
       "  0.2844292015072015\n",
       "  0.44532601226225993\n",
       "  0.3407442715150319\n",
       "  0.04384633569167282\n",
       " -0.320718796521909\n",
       " -0.45074387699370233\n",
       " -0.28133587858570447\n",
       "  0.05744033447133859\n",
       "  0.38317043529673783\n",
       "  0.4349749413322946"
      ]
     },
     "execution_count": 3,
     "metadata": {},
     "output_type": "execute_result"
    }
   ],
   "source": [
    "time = sol.t\n",
    "u1_prime = sol[1,:]\n",
    "u2_prime = sol[2,:]\n",
    "u1 = sol[3,:]\n",
    "u2 = sol[4,:]"
   ]
  },
  {
   "cell_type": "code",
   "execution_count": 4,
   "metadata": {},
   "outputs": [],
   "source": [
    "plot(time, u1,\n",
    "            label = false,\n",
    "            linewidth = 1.5)\n",
    "plot!(time, u2,\n",
    "            label = false,\n",
    "            linewidth = 1.5);"
   ]
  },
  {
   "cell_type": "code",
   "execution_count": 5,
   "metadata": {},
   "outputs": [
    {
     "data": {
      "text/plain": [
       "1.0846018358194638"
      ]
     },
     "execution_count": 5,
     "metadata": {},
     "output_type": "execute_result"
    }
   ],
   "source": [
    "function get_Gamma(δ, ω, ϵ)\n",
    "    tspan = (0.0, 2π / ω)\n",
    "    p = (δ, ω, ϵ)\n",
    "    \n",
    "    prob = SecondOrderODEProblem(inverted_pendulum, du0, u0, tspan,  p)\n",
    "    sol = solve(prob, Tsit5());\n",
    "    \n",
    "    #u1_prime_T = sol[1,end]\n",
    "    u2_prime_T = sol[2,end]\n",
    "    u1_T = sol[3,end]\n",
    "    #u2_T = sol[4,end]\n",
    "    \n",
    "    # Using Eqn 601\n",
    "    absGamma = u1_T + u2_prime_T\n",
    "end\n",
    "\n",
    "get_Gamma(δ, ω, ϵ)"
   ]
  },
  {
   "cell_type": "code",
   "execution_count": 6,
   "metadata": {},
   "outputs": [],
   "source": [
    "# Case 1: delta > gamma\n",
    "δ = 5.0\n",
    "ϵ = 0.01\n",
    "\n",
    "ω_vec = collect(1.0:1.0:100)\n",
    "Γ_vec = []\n",
    "for ω in ω_vec\n",
    "    push!(Γ_vec, get_Gamma(δ, ω, ϵ))\n",
    "end"
   ]
  },
  {
   "cell_type": "code",
   "execution_count": 7,
   "metadata": {},
   "outputs": [],
   "source": [
    "exer_1_dgte = plot(ω_vec, Γ_vec,\n",
    "    label = false,\n",
    "    ylabel = \"Γ(ω)\",\n",
    "    xlabel = \"ω\")\n",
    "exer_1_dgte = hline!([2.0, -2.0],\n",
    "    color = \"grey\",\n",
    "    linestyle = :dash,\n",
    "    label = false,\n",
    "    title = \"δ > ϵ\");"
   ]
  },
  {
   "cell_type": "code",
   "execution_count": 8,
   "metadata": {},
   "outputs": [],
   "source": [
    "# Case 2: delta < gamma\n",
    "δ = 5.0\n",
    "ϵ = 10.01\n",
    "\n",
    "ω_vec = collect(1.0:1.0:100)\n",
    "Γ_vec = []\n",
    "for ω in ω_vec\n",
    "    push!(Γ_vec, get_Gamma(δ, ω, ϵ))\n",
    "end"
   ]
  },
  {
   "cell_type": "code",
   "execution_count": 9,
   "metadata": {},
   "outputs": [],
   "source": [
    "exer_1_dlte = plot(ω_vec, Γ_vec,\n",
    "        label = false,\n",
    "        ylabel = \"Γ(ω)\",\n",
    "        xlabel = \"ω\")\n",
    "exer_1_dlte = hline!([2.0, -2.0],\n",
    "    color = \"grey\",\n",
    "    linestyle = :dash,\n",
    "    label = false,\n",
    "    title = \"δ < ϵ\");"
   ]
  },
  {
   "cell_type": "code",
   "execution_count": 10,
   "metadata": {},
   "outputs": [],
   "source": [
    "exer_1_a = plot(exer_1_dgte, exer_1_dlte, size = (600, 300));"
   ]
  },
  {
   "cell_type": "code",
   "execution_count": 11,
   "metadata": {},
   "outputs": [],
   "source": [
    "savefig(exer_1_a, \"../hw/figs/hw-7-exer-Floquet-omega.pdf\")"
   ]
  },
  {
   "cell_type": "code",
   "execution_count": 12,
   "metadata": {},
   "outputs": [],
   "source": [
    "# Find regions where Γ less than 2\n",
    "ω = 1.0\n",
    "δ_vec = collect(0.01:0.05:10.0)\n",
    "ϵ_vec = collect(0.01:0.05:10.0)\n",
    "\n",
    "Γ_mat = zeros(length(δ_vec), length(ϵ_vec))\n",
    "\n",
    "for i in 1:length(δ_vec)\n",
    "    for j in 1:length(ϵ_vec)\n",
    "        Γ_mat[i,j] = get_Gamma(δ_vec[i], ω, ϵ_vec[j])\n",
    "    end \n",
    "end"
   ]
  },
  {
   "cell_type": "code",
   "execution_count": 13,
   "metadata": {},
   "outputs": [],
   "source": [
    "exer_2_heatmap_1 = heatmap(ϵ_vec, δ_vec, Γ_mat,\n",
    "    xlabel = \"ϵ\",\n",
    "    ylabel = \"δ\",\n",
    "    title  = \"Γ; ω = $(ω)\",\n",
    "    aspectratio = 1.0,\n",
    "    size = (600, 600));"
   ]
  },
  {
   "cell_type": "code",
   "execution_count": 14,
   "metadata": {},
   "outputs": [],
   "source": [
    "exer_2_binary_1 = heatmap(ϵ_vec, δ_vec, abs.(Γ_mat) .> 2,\n",
    "    xlabel = \"ϵ\",\n",
    "    ylabel = \"δ\",\n",
    "    title  = \"|Γ| > 2; ω = $(ω)\",\n",
    "    size = (600, 600),\n",
    "    colorbar = false);"
   ]
  },
  {
   "cell_type": "code",
   "execution_count": 15,
   "metadata": {},
   "outputs": [],
   "source": [
    "# Regions where Γ less than 2\n",
    "ω = 5.0\n",
    "δ_vec = collect(0.01:0.05:10.0)\n",
    "ϵ_vec = collect(0.01:0.05:10.0)\n",
    "\n",
    "Γ_mat = zeros(length(δ_vec), length(ϵ_vec))\n",
    "\n",
    "for i in 1:length(δ_vec)\n",
    "    for j in 1:length(ϵ_vec)\n",
    "        Γ_mat[i,j] = get_Gamma(δ_vec[i], ω, ϵ_vec[j])\n",
    "    end \n",
    "end"
   ]
  },
  {
   "cell_type": "code",
   "execution_count": 16,
   "metadata": {},
   "outputs": [],
   "source": [
    "exer_2_heatmap_2 = heatmap(ϵ_vec, δ_vec, Γ_mat,\n",
    "    xlabel = \"ϵ\",\n",
    "    ylabel = \"δ\",\n",
    "    title  = \"Γ; ω = $(ω)\",\n",
    "    aspectratio = 1.0,\n",
    "    size = (600, 600));"
   ]
  },
  {
   "cell_type": "code",
   "execution_count": 17,
   "metadata": {},
   "outputs": [],
   "source": [
    "exer_2_binary_2 = heatmap(ϵ_vec, δ_vec, abs.(Γ_mat) .> 2,\n",
    "    xlabel = \"ϵ\",\n",
    "    ylabel = \"δ\",\n",
    "    title  = \"|Γ| > 2; ω = $(ω)\",\n",
    "    size = (600, 600),\n",
    "    colorbar = false);"
   ]
  },
  {
   "cell_type": "code",
   "execution_count": 18,
   "metadata": {},
   "outputs": [],
   "source": [
    "# Regions where Γ less than 2\n",
    "ω = 20.0\n",
    "δ_vec = collect(0.01:0.05:10.0)\n",
    "ϵ_vec = collect(0.01:0.05:10.0)\n",
    "\n",
    "Γ_mat = zeros(length(δ_vec), length(ϵ_vec))\n",
    "\n",
    "for i in 1:length(δ_vec)\n",
    "    for j in 1:length(ϵ_vec)\n",
    "        Γ_mat[i,j] = get_Gamma(δ_vec[i], ω, ϵ_vec[j])\n",
    "    end \n",
    "end"
   ]
  },
  {
   "cell_type": "code",
   "execution_count": 19,
   "metadata": {},
   "outputs": [],
   "source": [
    "exer_2_heatmap_3 = heatmap(ϵ_vec, δ_vec, Γ_mat,\n",
    "    xlabel = \"ϵ\",\n",
    "    ylabel = \"δ\",\n",
    "    title  = \"Γ; ω = $(ω)\",\n",
    "    aspectratio = 1.0,\n",
    "    size = (600, 600));"
   ]
  },
  {
   "cell_type": "code",
   "execution_count": 20,
   "metadata": {},
   "outputs": [],
   "source": [
    "exer_2_binary_3 = heatmap(ϵ_vec, δ_vec, abs.(Γ_mat) .> 2,\n",
    "    xlabel = \"ϵ\",\n",
    "    ylabel = \"δ\",\n",
    "    title  = \"|Γ| > 2; ω = $(ω)\",\n",
    "    size = (600, 600),\n",
    "    colorbar = false);"
   ]
  },
  {
   "cell_type": "code",
   "execution_count": 21,
   "metadata": {},
   "outputs": [],
   "source": [
    "exer_2_Γ_map = plot(exer_2_heatmap_1, exer_2_heatmap_2, exer_2_heatmap_3, layout = (1,3), size = (900, 300))\n",
    "savefig(exer_2_Γ_map, \"../hw/figs/hw-7-exer-Floquet-heatmap.pdf\")"
   ]
  },
  {
   "cell_type": "code",
   "execution_count": 22,
   "metadata": {},
   "outputs": [],
   "source": [
    "exer_2_Γ_binary = plot( exer_2_binary_1,  exer_2_binary_2,  exer_2_binary_3, size = (900, 300), layout = (1,3))\n",
    "savefig(exer_2_Γ_binary, \"../hw/figs/hw-7-exer-Floquet-binary.pdf\")"
   ]
  }
 ],
 "metadata": {
  "kernelspec": {
   "display_name": "Julia 8 Threads 1.5.2",
   "language": "julia",
   "name": "julia-8-threads-1.5"
  },
  "language_info": {
   "file_extension": ".jl",
   "mimetype": "application/julia",
   "name": "julia",
   "version": "1.5.2"
  }
 },
 "nbformat": 4,
 "nbformat_minor": 4
}
