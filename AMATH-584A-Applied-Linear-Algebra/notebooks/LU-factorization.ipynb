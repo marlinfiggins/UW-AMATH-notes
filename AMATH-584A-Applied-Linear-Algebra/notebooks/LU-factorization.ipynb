{
 "cells": [
  {
   "cell_type": "code",
   "execution_count": 121,
   "metadata": {},
   "outputs": [],
   "source": [
    "import numpy as np"
   ]
  },
  {
   "cell_type": "code",
   "execution_count": 1114,
   "metadata": {},
   "outputs": [],
   "source": [
    "A = np.random.rand(3,3)"
   ]
  },
  {
   "cell_type": "code",
   "execution_count": 1115,
   "metadata": {},
   "outputs": [
    {
     "data": {
      "text/plain": [
       "array([[0.06134647, 0.68662998, 0.87567362],\n",
       "       [0.54215172, 0.16341624, 0.69483624],\n",
       "       [0.6254462 , 0.67629913, 0.51864024]])"
      ]
     },
     "execution_count": 1115,
     "metadata": {},
     "output_type": "execute_result"
    }
   ],
   "source": [
    "A"
   ]
  },
  {
   "cell_type": "code",
   "execution_count": 1134,
   "metadata": {},
   "outputs": [],
   "source": [
    "def lu_factor(A):\n",
    "    n = A.shape[0]\n",
    "    P = np.identity(n)\n",
    "    L = np.identity(n)\n",
    "    U = A.copy()\n",
    "    for k in range(n-1): # Loop over columns\n",
    "        # Pivoting\n",
    "        i = np.argmax(np.abs(U[k:,k]))+k # Maximum arg of current column\n",
    "        if i != k:\n",
    "            U[[i, k]] = U[[k,i]]   # Swap Rows\n",
    "            P[[i, k]] = P[[k,i]]   # Save in pivot matrix\n",
    "        \n",
    "        # Updating L and U\n",
    "        L[k+1:,k] = U[k+1:, k] / U[k,k]\n",
    "        U[k+1:,k:] -= np.outer(L[k+1:,k], U[k:,k])\n",
    "        print(U)\n",
    "    return P, L, U"
   ]
  },
  {
   "cell_type": "code",
   "execution_count": 1135,
   "metadata": {},
   "outputs": [],
   "source": [
    "P = np.identity(3)\n",
    "\n",
    "P[[1, 2]] = P[[2,1]]   # Save in pivot matrix"
   ]
  },
  {
   "cell_type": "code",
   "execution_count": 1136,
   "metadata": {},
   "outputs": [
    {
     "name": "stdout",
     "output_type": "stream",
     "text": [
      "[[ 0.6254462   0.67629913  0.51864024]\n",
      " [ 0.         -0.30653383  0.64165965]\n",
      " [ 0.          0.63345339  0.8696565 ]]\n",
      "[[0.6254462  0.67629913 0.51864024]\n",
      " [0.         0.63345339 0.8696565 ]\n",
      " [0.         0.         0.49332515]]\n"
     ]
    }
   ],
   "source": [
    "P, L, U = lu_factor(A)"
   ]
  },
  {
   "cell_type": "code",
   "execution_count": 1137,
   "metadata": {},
   "outputs": [
    {
     "data": {
      "text/plain": [
       "array([[0., 0., 1.],\n",
       "       [1., 0., 0.],\n",
       "       [0., 1., 0.]])"
      ]
     },
     "execution_count": 1137,
     "metadata": {},
     "output_type": "execute_result"
    }
   ],
   "source": [
    "P"
   ]
  },
  {
   "cell_type": "code",
   "execution_count": 1138,
   "metadata": {},
   "outputs": [
    {
     "data": {
      "text/plain": [
       "array([[ 1.        ,  0.        ,  0.        ],\n",
       "       [ 0.8668239 ,  1.        ,  0.        ],\n",
       "       [ 0.09808434, -0.48390906,  1.        ]])"
      ]
     },
     "execution_count": 1138,
     "metadata": {},
     "output_type": "execute_result"
    }
   ],
   "source": [
    "L"
   ]
  },
  {
   "cell_type": "code",
   "execution_count": 1139,
   "metadata": {},
   "outputs": [
    {
     "data": {
      "text/plain": [
       "array([[0.6254462 , 0.67629913, 0.51864024],\n",
       "       [0.        , 0.63345339, 0.8696565 ],\n",
       "       [0.        , 0.        , 0.49332515]])"
      ]
     },
     "execution_count": 1139,
     "metadata": {},
     "output_type": "execute_result"
    }
   ],
   "source": [
    "U"
   ]
  },
  {
   "cell_type": "code",
   "execution_count": 1140,
   "metadata": {},
   "outputs": [
    {
     "data": {
      "text/plain": [
       "array([[0., 0., 1.],\n",
       "       [1., 0., 0.],\n",
       "       [0., 1., 0.]])"
      ]
     },
     "execution_count": 1140,
     "metadata": {},
     "output_type": "execute_result"
    }
   ],
   "source": [
    "P"
   ]
  },
  {
   "cell_type": "code",
   "execution_count": 1141,
   "metadata": {},
   "outputs": [
    {
     "data": {
      "text/plain": [
       "array([[ 0.6254462 ,  0.67629913,  0.51864024],\n",
       "       [ 0.54215172,  1.21968565,  1.31922626],\n",
       "       [ 0.06134647, -0.24019948,  0.12336098]])"
      ]
     },
     "execution_count": 1141,
     "metadata": {},
     "output_type": "execute_result"
    }
   ],
   "source": [
    "L @ U"
   ]
  },
  {
   "cell_type": "code",
   "execution_count": 1142,
   "metadata": {},
   "outputs": [
    {
     "data": {
      "text/plain": [
       "array([[0.6254462 , 0.67629913, 0.51864024],\n",
       "       [0.06134647, 0.68662998, 0.87567362],\n",
       "       [0.54215172, 0.16341624, 0.69483624]])"
      ]
     },
     "execution_count": 1142,
     "metadata": {},
     "output_type": "execute_result"
    }
   ],
   "source": [
    "P @ A"
   ]
  },
  {
   "cell_type": "code",
   "execution_count": 1063,
   "metadata": {},
   "outputs": [
    {
     "data": {
      "text/plain": [
       "array([[ True,  True,  True],\n",
       "       [False, False, False],\n",
       "       [False, False, False]])"
      ]
     },
     "execution_count": 1063,
     "metadata": {},
     "output_type": "execute_result"
    }
   ],
   "source": [
    "np.isclose(P @ A,  L@U) # Is this sufficiently close"
   ]
  },
  {
   "cell_type": "code",
   "execution_count": 1064,
   "metadata": {},
   "outputs": [
    {
     "data": {
      "text/plain": [
       "1.2837724406517077"
      ]
     },
     "execution_count": 1064,
     "metadata": {},
     "output_type": "execute_result"
    }
   ],
   "source": [
    " np.max(P @ A -  L @ U)"
   ]
  },
  {
   "cell_type": "code",
   "execution_count": 951,
   "metadata": {},
   "outputs": [
    {
     "data": {
      "text/plain": [
       "12.52219116575754"
      ]
     },
     "execution_count": 951,
     "metadata": {},
     "output_type": "execute_result"
    }
   ],
   "source": [
    "np.linalg.cond(A)"
   ]
  },
  {
   "cell_type": "code",
   "execution_count": 952,
   "metadata": {},
   "outputs": [
    {
     "data": {
      "text/plain": [
       "array([[  1.10898424,  -0.57192932,  -0.48849079,  -2.26618113,\n",
       "         -0.24847424],\n",
       "       [  0.        ,   0.        ,   2.96125756,  -5.50372719,\n",
       "          1.16097897],\n",
       "       [  0.        ,  -0.49280015,   0.57869482,  -0.58353313,\n",
       "         -1.28196671],\n",
       "       [  0.        ,   0.        ,   0.        , -96.06100305,\n",
       "         34.42585818],\n",
       "       [  0.        ,   0.        ,   0.        ,   0.        ,\n",
       "         -0.8999888 ]])"
      ]
     },
     "execution_count": 952,
     "metadata": {},
     "output_type": "execute_result"
    }
   ],
   "source": [
    "U"
   ]
  },
  {
   "cell_type": "code",
   "execution_count": null,
   "metadata": {},
   "outputs": [],
   "source": []
  },
  {
   "cell_type": "code",
   "execution_count": null,
   "metadata": {},
   "outputs": [],
   "source": []
  },
  {
   "cell_type": "code",
   "execution_count": null,
   "metadata": {},
   "outputs": [],
   "source": []
  }
 ],
 "metadata": {
  "kernelspec": {
   "display_name": "Python 3",
   "language": "python",
   "name": "python3"
  },
  "language_info": {
   "codemirror_mode": {
    "name": "ipython",
    "version": 3
   },
   "file_extension": ".py",
   "mimetype": "text/x-python",
   "name": "python",
   "nbconvert_exporter": "python",
   "pygments_lexer": "ipython3",
   "version": "3.8.3"
  }
 },
 "nbformat": 4,
 "nbformat_minor": 4
}
